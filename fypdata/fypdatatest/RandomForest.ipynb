{
 "cells": [
  {
   "metadata": {},
   "cell_type": "markdown",
   "source": "# Random Forest Method",
   "id": "6b3950331b542936"
  },
  {
   "metadata": {
    "collapsed": true
   },
   "cell_type": "code",
   "outputs": [],
   "execution_count": null,
   "source": [
    "# Import libraries\n",
    "import pandas as pd\n",
    "from IPython.display import display\n",
    "import numpy as np\n",
    "import numpy.random\n",
    "import matplotlib.pyplot as plt\n",
    "from sklearn.preprocessing import MinMaxScaler\n",
    "from sklearn.model_selection import train_test_split\n",
    "from sklearn.metrics import mean_squared_error\n",
    "from sklearn.metrics import mean_absolute_error\n",
    "from keras.models import Sequential\n",
    "from keras.layers import LSTM\n",
    "from keras.layers import Dense\n",
    "from keras.layers import Dropout\n",
    "import matplotlib.dates as mdates"
   ],
   "id": "initial_id"
  },
  {
   "metadata": {},
   "cell_type": "code",
   "outputs": [],
   "execution_count": null,
   "source": [
    "NUM_OF_PREV_ITEMS =5 #how many previous that will be used to connect/ depends \n",
    "numpy.random.seed(1) # same random number will be generated if put 1 \n",
    "# Load the dataset\n",
    "df = pd.read_csv('cases_state.csv', usecols=['date', 'state', 'cases_new'])\n",
    "\n",
    "# Convert 'date' column to datetime format if it's not already\n",
    "df['date'] = pd.to_datetime(df['date'],  format='%Y-%m-%d')\n",
    "\n",
    "# Aggregate data by date if you want to plot the total new cases across all states per day\n",
    "df_grouped = df.groupby('date')['cases_new'].sum().reset_index()\n",
    "\n",
    "# Plot the total new cases per day\n",
    "plt.plot(df_grouped['date'], df_grouped['cases_new'])\n",
    "plt.xlabel('Date')\n",
    "plt.ylabel('New Cases')\n",
    "plt.title('Daily New COVID-19 Cases')\n",
    "plt.xticks(rotation=45) # Rotate x-axis labels for better readability\n",
    "plt.tight_layout() # Adjust layout to avoid overlap\n",
    "plt.show()"
   ],
   "id": "fac21bb3dd4171bc"
  }
 ],
 "metadata": {
  "kernelspec": {
   "display_name": "Python 3",
   "language": "python",
   "name": "python3"
  },
  "language_info": {
   "codemirror_mode": {
    "name": "ipython",
    "version": 2
   },
   "file_extension": ".py",
   "mimetype": "text/x-python",
   "name": "python",
   "nbconvert_exporter": "python",
   "pygments_lexer": "ipython2",
   "version": "2.7.6"
  }
 },
 "nbformat": 4,
 "nbformat_minor": 5
}
